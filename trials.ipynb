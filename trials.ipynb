{
 "cells": [
  {
   "cell_type": "code",
   "execution_count": 25,
   "metadata": {},
   "outputs": [],
   "source": [
    "#add header here\n",
    "import numpy as np\n",
    "import time\n",
    "import sys\n",
    "import random\n",
    "from Input_reader import Input_reader"
   ]
  },
  {
   "cell_type": "code",
   "execution_count": null,
   "metadata": {},
   "outputs": [],
   "source": [
    "class Output_reader:\n",
    "    def __init__(self, file_name):\n",
    "        file = Reader(file_name)\n",
    "        \n",
    "        self.lib_no = file.nextInt()\n",
    "        self.lib_ids=[]\n",
    "        for i in range(self.lib_no):\n",
    "            self.lib_ids.append(file.nextInt())\n",
    "            book_no = file.nextInt()\n",
    "            self.lib_book_no.append(book_no)\n",
    "            \n",
    "            \n",
    "        \n",
    "        self.num_books, self.num_libraries, self.num_days = file.nextInt(), file.nextInt(), file.nextInt()\n",
    "        self.books = []\n",
    "        self.libraries = []\n",
    "        for i in range(self.num_books):\n",
    "            self.books.append(Book(i, file.nextInt()))\n",
    "        for i in range(self.num_libraries):\n",
    "            num_books_lib = file.nextInt()\n",
    "            duration, limits = file.nextInt(), file.nextInt()\n",
    "            books_lib = []\n",
    "            for j in range(num_books_lib):\n",
    "                books_lib.append(file.nextInt())\n",
    "            self.libraries.append(Library(books_lib, duration, limits))\n",
    "\n",
    "    def __str__(self):\n",
    "        return str(self.num_libraries) + \" \" + str(self.num_days)"
   ]
  },
  {
   "cell_type": "code",
   "execution_count": 26,
   "metadata": {},
   "outputs": [],
   "source": [
    "class evaluation():\n",
    "    def __init__(self, input_file, output_file):\n",
    "        self.model = Input_reader(input_file)\n",
    "        self.target = Output_reader(output_file)\n",
    "    def eval():\n",
    "        value = 0\n",
    "        return value"
   ]
  }
 ],
 "metadata": {
  "kernelspec": {
   "display_name": "Python 3",
   "language": "python",
   "name": "python3"
  },
  "language_info": {
   "codemirror_mode": {
    "name": "ipython",
    "version": 3
   },
   "file_extension": ".py",
   "mimetype": "text/x-python",
   "name": "python",
   "nbconvert_exporter": "python",
   "pygments_lexer": "ipython3",
   "version": "3.6.9"
  }
 },
 "nbformat": 4,
 "nbformat_minor": 4
}
